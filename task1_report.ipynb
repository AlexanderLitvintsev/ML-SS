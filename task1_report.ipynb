{
 "cells": [
  {
   "cell_type": "markdown",
   "metadata": {},
   "source": [
    "### Задача 1\n",
    "Руководство компании обратило внимание на то, что сотрудники старше 35 лет болеют чаще, чем более молодые сотрудники. Кроме этого, среди мужчин количество пропусков рабочих дней в связи с больничным выше, чем среди женщин. В связи с этой ситуацией, руководство организации планирует ввести дополнительные медицинские осмотры среди групп риска. \n",
    "Вам необходимо обосновать, что:\n",
    "    1) Мужчины пропускают в течение года более 2 рабочих дней по болезни значимо чаще женщин.\n",
    "    2) Работники старше 35 лет пропускают в течение года более 2 рабочих дней по болезни значимо чаще своих более молодых коллег.\n",
    "Все необходимые данные содержатся в файле «Статистика за 2016 год»."
   ]
  },
  {
   "cell_type": "markdown",
   "metadata": {},
   "source": [
    "### Решение\n",
    "Для решения данной задачи необходимо:\n",
    "1. Провести анализ данных.\n",
    "2. Протестировать значимость двух гипотез.\n",
    "3. Сделать выводы.\n",
    "\n",
    "В первую очередь необходимо загрузить набор данных и познакомиться с данными. Набор данных представляет собой текстовый файл в формате csv с разделителями с виде запятой (',') и кодировкой Windows-1251.\n",
    "\n",
    "##### Исходный файл \"Статистика за 2016 год.csv\" переименован в \"Stats_2016.csv\" для совместимости."
   ]
  },
  {
   "cell_type": "code",
   "execution_count": 1,
   "metadata": {},
   "outputs": [],
   "source": [
    "import pandas as pd\n",
    "import numpy as np\n",
    "from scipy import stats\n",
    "from statistics import mean, median\n",
    "import seaborn as sns\n",
    "import matplotlib.pyplot as plt\n",
    "from matplotlib.ticker import PercentFormatter\n",
    "%matplotlib inline\n",
    "\n",
    "df = pd.read_csv('Stats_2016.csv', sep=',', encoding='cp1251')"
   ]
  },
  {
   "cell_type": "markdown",
   "metadata": {},
   "source": [
    "#### Общая информация\n",
    "1. В наборе данных содержится 237 строк и 3 столбца.\n",
    "2. Пропущенные значения отсутствуют."
   ]
  },
  {
   "cell_type": "code",
   "execution_count": 2,
   "metadata": {},
   "outputs": [
    {
     "name": "stdout",
     "output_type": "stream",
     "text": [
      "Первые несколько строк набора данных\n",
      "   Количество больничных дней  Возраст Пол\n",
      "0                           5       39   Ж\n",
      "1                           4       54   М\n",
      "2                           4       26   М\n",
      "3                           5       42   М\n",
      "4                           4       29   М\n"
     ]
    }
   ],
   "source": [
    "print('Первые несколько строк набора данных')\n",
    "print(df.head(5))"
   ]
  },
  {
   "cell_type": "code",
   "execution_count": 3,
   "metadata": {},
   "outputs": [
    {
     "name": "stdout",
     "output_type": "stream",
     "text": [
      "Информация о данных\n",
      "        Количество больничных дней     Возраст  Пол\n",
      "count                   237.000000  237.000000  237\n",
      "unique                         NaN         NaN    2\n",
      "top                            NaN         NaN    М\n",
      "freq                           NaN         NaN  139\n",
      "mean                      3.257384   40.181435  NaN\n",
      "std                       1.807821    6.875157  NaN\n",
      "min                       0.000000   23.000000  NaN\n",
      "25%                       2.000000   36.000000  NaN\n",
      "50%                       3.000000   41.000000  NaN\n",
      "75%                       4.000000   45.000000  NaN\n",
      "max                       8.000000   60.000000  NaN\n"
     ]
    }
   ],
   "source": [
    "print('Информация о данных')\n",
    "print(df.describe(include='all'))"
   ]
  },
  {
   "cell_type": "code",
   "execution_count": 4,
   "metadata": {},
   "outputs": [
    {
     "name": "stdout",
     "output_type": "stream",
     "text": [
      "Пропуски в данных\n",
      "Количество больничных дней    0\n",
      "Возраст                       0\n",
      "Пол                           0\n",
      "dtype: int64\n"
     ]
    }
   ],
   "source": [
    "print('Пропуски в данных')\n",
    "print(df.isnull().sum())"
   ]
  },
  {
   "cell_type": "markdown",
   "metadata": {},
   "source": [
    "#### Пропуски в данных отсутствуют."
   ]
  },
  {
   "cell_type": "markdown",
   "metadata": {},
   "source": [
    "#### Информация о работниках"
   ]
  },
  {
   "cell_type": "code",
   "execution_count": 5,
   "metadata": {},
   "outputs": [
    {
     "name": "stdout",
     "output_type": "stream",
     "text": [
      "Количество мужчин и женщин: 237\n",
      "Количество мужчин: 139\n",
      "Доля мужчин: 0.59\n",
      "Количество женщин: 98\n",
      "Доля женщин: 0.41\n"
     ]
    }
   ],
   "source": [
    "count_all = len(df)\n",
    "count_man = len(df[df['Пол'] == 'М'])\n",
    "count_woman = len(df[df['Пол'] == 'Ж'])\n",
    "print('Количество мужчин и женщин: {}'.format(count_all))\n",
    "print('Количество мужчин: {}'.format(count_man))\n",
    "print('Доля мужчин: {0:.2f}'.format(count_man / count_all))\n",
    "print('Количество женщин: {}'.format(count_woman))\n",
    "print('Доля женщин: {0:.2f}'.format(count_woman / count_all))"
   ]
  },
  {
   "cell_type": "code",
   "execution_count": 6,
   "metadata": {},
   "outputs": [
    {
     "data": {
      "text/plain": [
       "Text(0.5, 1.0, 'Количество мужчин и женщин в выборке')"
      ]
     },
     "execution_count": 6,
     "metadata": {},
     "output_type": "execute_result"
    },
    {
     "data": {
      "image/png": "[encoded data removed]",
      "text/plain": [
       "<Figure size 432x288 with 1 Axes>"
      ]
     },
     "metadata": {
      "needs_background": "light"
     },
     "output_type": "display_data"
    }
   ],
   "source": [
    "plt.figure(1)\n",
    "height = [count_man, count_woman]\n",
    "bars = ('М', 'Ж')\n",
    "y_pos = np.arange(len(bars))\n",
    "plt.bar(y_pos, height, color=('lightblue'), align='center')\n",
    "plt.xticks(y_pos, bars)\n",
    "plt.ylabel('Количество')\n",
    "plt.title('Количество мужчин и женщин в выборке')"
   ]
  },
  {
   "cell_type": "code",
   "execution_count": 7,
   "metadata": {},
   "outputs": [
    {
     "data": {
      "text/plain": [
       "Text(0.5, 1.0, 'Гистограмма распределения работников по возрасту')"
      ]
     },
     "execution_count": 7,
     "metadata": {},
     "output_type": "execute_result"
    },
    {
     "data": {
      "image/png": "[encoded data removed]",
      "text/plain": [
       "<Figure size 432x288 with 1 Axes>"
      ]
     },
     "metadata": {
      "needs_background": "light"
     },
     "output_type": "display_data"
    }
   ],
   "source": [
    "scope_age_all = max(df['Возраст']) - min(df['Возраст'])\n",
    "plt.figure(2)\n",
    "plt.hist(df['Возраст'], bins=scope_age_all)\n",
    "plt.xlabel('Возраст')\n",
    "plt.ylabel('Количество')\n",
    "plt.title('Гистограмма распределения работников по возрасту')"
   ]
  },
  {
   "cell_type": "code",
   "execution_count": 8,
   "metadata": {},
   "outputs": [
    {
     "data": {
      "text/plain": [
       "Text(0.5, 1.0, 'Гистограмма распределения мужчин по возрасту')"
      ]
     },
     "execution_count": 8,
     "metadata": {},
     "output_type": "execute_result"
    },
    {
     "data": {
      "image/png": "[encoded data removed]",
      "text/plain": [
       "<Figure size 432x288 with 1 Axes>"
      ]
     },
     "metadata": {
      "needs_background": "light"
     },
     "output_type": "display_data"
    }
   ],
   "source": [
    "scope_age_man = max(df['Возраст'].loc[(df['Пол'] == 'М')]) - min(df['Возраст'].loc[(df['Пол'] == 'М')])\n",
    "plt.figure(3)\n",
    "plt.hist(df['Возраст'].loc[(df['Пол'] == 'М')], bins=scope_age_man)\n",
    "plt.xlabel('Возраст')\n",
    "plt.ylabel('Количество')\n",
    "plt.title('Гистограмма распределения мужчин по возрасту')"
   ]
  },
  {
   "cell_type": "code",
   "execution_count": 9,
   "metadata": {},
   "outputs": [
    {
     "data": {
      "text/plain": [
       "Text(0.5, 1.0, 'Гистограмма распределения женщин по возрасту')"
      ]
     },
     "execution_count": 9,
     "metadata": {},
     "output_type": "execute_result"
    },
    {
     "data": {
      "image/png": "[encoded data removed]",
      "text/plain": [
       "<Figure size 432x288 with 1 Axes>"
      ]
     },
     "metadata": {
      "needs_background": "light"
     },
     "output_type": "display_data"
    }
   ],
   "source": [
    "scope_age_woman = max(df['Возраст'].loc[(df['Пол'] == 'Ж')]) - min(df['Возраст'].loc[(df['Пол'] == 'Ж')])\n",
    "plt.figure(4)\n",
    "plt.hist(df['Возраст'].loc[(df['Пол'] == 'Ж')], bins=scope_age_woman)\n",
    "plt.xlabel('Возраст')\n",
    "plt.ylabel('Количество')\n",
    "plt.title('Гистограмма распределения женщин по возрасту')"
   ]
  },
  {
   "cell_type": "code",
   "execution_count": 10,
   "metadata": {},
   "outputs": [
    {
     "data": {
      "text/plain": [
       "Text(0.5, 1.0, 'Диаграмма размаха - возраст')"
      ]
     },
     "execution_count": 10,
     "metadata": {},
     "output_type": "execute_result"
    },
    {
     "data": {
      "image/png": "[encoded data removed]",
      "text/plain": [
       "<Figure size 432x288 with 1 Axes>"
      ]
     },
     "metadata": {
      "needs_background": "light"
     },
     "output_type": "display_data"
    }
   ],
   "source": [
    "plt.figure(6)\n",
    "data = [df['Возраст'].loc[df['Пол'] == 'М'],\n",
    "        df['Возраст'].loc[df['Пол'] == 'Ж']]\n",
    "plt.boxplot(data, showfliers=True)\n",
    "plt.xlabel(['Мужчины', 'Женщины'])\n",
    "plt.ylabel('Возраст')\n",
    "plt.title('Диаграмма размаха - возраст')"
   ]
  },
  {
   "cell_type": "markdown",
   "metadata": {},
   "source": [
    "#### Информация о количестве больничных дней"
   ]
  },
  {
   "cell_type": "code",
   "execution_count": 11,
   "metadata": {},
   "outputs": [
    {
     "name": "stdout",
     "output_type": "stream",
     "text": [
      "Минимальное значение количества больничных дней: 0\n",
      "Максимальное значение количества больничных дней: 8\n",
      "Среднее значение количества больничных дней: 3.26\n",
      "Медиана количества больничных дней: 3\n",
      "\n",
      "Минимальное значение количества больничных дней у мужчин: 0\n",
      "Максимальное значение количества больничных дней у мужчин: 8\n",
      "Среднее значение количества больничных дней у мужчин: 3.18\n",
      "Медиана количества больничных дней у мужчин: 3\n",
      "\n",
      "Минимальное значение количества больничных дней у женщин: 0\n",
      "Максимальное значение количества больничных дней у женщин: 8\n",
      "Среднее значение количества больничных дней у женщин: 3.37\n",
      "Медиана количества больничных дней у женщин: 3.0\n"
     ]
    }
   ],
   "source": [
    "days_all_min = min(df['Количество больничных дней'])\n",
    "days_all_max = max(df['Количество больничных дней'])\n",
    "days_all_mean = mean(df['Количество больничных дней'])\n",
    "days_all_med = median(df['Количество больничных дней'])\n",
    "\n",
    "days_man_min = min(df['Количество больничных дней'].loc[(df['Пол'] == 'М')])\n",
    "days_man_max = max(df['Количество больничных дней'].loc[(df['Пол'] == 'М')])\n",
    "days_man_mean = mean(df['Количество больничных дней'].loc[(df['Пол'] == 'М')])\n",
    "days_man_med = median(df['Количество больничных дней'].loc[(df['Пол'] == 'М')])\n",
    "\n",
    "days_woman_min = min(df['Количество больничных дней'].loc[(df['Пол'] == 'Ж')])\n",
    "days_woman_max = max(df['Количество больничных дней'].loc[(df['Пол'] == 'Ж')])\n",
    "days_woman_mean = mean(df['Количество больничных дней'].loc[(df['Пол'] == 'Ж')])\n",
    "days_woman_med = median(df['Количество больничных дней'].loc[(df['Пол'] == 'Ж')])\n",
    "\n",
    "print('Минимальное значение количества больничных дней: {}'.format(days_all_min))\n",
    "print('Максимальное значение количества больничных дней: {}'.format(days_all_max))\n",
    "print('Среднее значение количества больничных дней: {0:.2f}'.format(days_all_mean))\n",
    "print('Медиана количества больничных дней: {}'.format(days_all_med))\n",
    "print('')\n",
    "print('Минимальное значение количества больничных дней у мужчин: {}'.format(days_man_min))\n",
    "print('Максимальное значение количества больничных дней у мужчин: {}'.format(days_man_max))\n",
    "print('Среднее значение количества больничных дней у мужчин: {0:.2f}'.format(days_man_mean))\n",
    "print('Медиана количества больничных дней у мужчин: {}'.format(days_man_med))\n",
    "print('')\n",
    "print('Минимальное значение количества больничных дней у женщин: {}'.format(days_woman_min))\n",
    "print('Максимальное значение количества больничных дней у женщин: {}'.format(days_woman_max))\n",
    "print('Среднее значение количества больничных дней у женщин: {0:.2f}'.format(days_woman_mean))\n",
    "print('Медиана количества больничных дней у женщин: {}'.format(days_woman_med))"
   ]
  },
  {
   "cell_type": "code",
   "execution_count": 12,
   "metadata": {},
   "outputs": [
    {
     "data": {
      "text/plain": [
       "Text(0.5, 1.0, 'Диаграмма размаха - количество больничных дней')"
      ]
     },
     "execution_count": 12,
     "metadata": {},
     "output_type": "execute_result"
    },
    {
     "data": {
      "image/png": "[encoded data removed]",
      "text/plain": [
       "<Figure size 432x288 with 1 Axes>"
      ]
     },
     "metadata": {
      "needs_background": "light"
     },
     "output_type": "display_data"
    }
   ],
   "source": [
    "plt.figure(6)\n",
    "data = [df['Количество больничных дней'].loc[df['Пол'] == 'М'],\n",
    "        df['Количество больничных дней'].loc[df['Пол'] == 'Ж']]\n",
    "plt.boxplot(data, showfliers=True)\n",
    "plt.xlabel(['Мужчины', 'Женщины'])\n",
    "plt.ylabel('Количество больничных дней')\n",
    "plt.title('Диаграмма размаха - количество больничных дней')"
   ]
  },
  {
   "cell_type": "markdown",
   "metadata": {},
   "source": [
    "#### Гистограмма распределения больничных дней"
   ]
  },
  {
   "cell_type": "code",
   "execution_count": 13,
   "metadata": {},
   "outputs": [
    {
     "data": {
      "text/plain": [
       "Text(0.5, 1.0, 'Гистограмма распределения больничных дней по всем работникам')"
      ]
     },
     "execution_count": 13,
     "metadata": {},
     "output_type": "execute_result"
    },
    {
     "data": {
      "image/png": "[encoded data removed]",
      "text/plain": [
       "<Figure size 432x288 with 1 Axes>"
      ]
     },
     "metadata": {
      "needs_background": "light"
     },
     "output_type": "display_data"
    }
   ],
   "source": [
    "scope_days_all = max(df['Количество больничных дней']) - min(df['Количество больничных дней'])\n",
    "plt.figure(6)\n",
    "plt.hist(df['Количество больничных дней'], bins=scope_days_all)\n",
    "plt.xlabel('Количество больничных дней')\n",
    "plt.ylabel('Количество работников')\n",
    "plt.title('Гистограмма распределения больничных дней по всем работникам')"
   ]
  },
  {
   "cell_type": "code",
   "execution_count": 14,
   "metadata": {},
   "outputs": [
    {
     "data": {
      "text/plain": [
       "Text(0.5, 1.0, 'Гистограмма распределения больничных дней по мужчинам')"
      ]
     },
     "execution_count": 14,
     "metadata": {},
     "output_type": "execute_result"
    },
    {
     "data": {
      "image/png": "[encoded data removed]",
      "text/plain": [
       "<Figure size 432x288 with 1 Axes>"
      ]
     },
     "metadata": {
      "needs_background": "light"
     },
     "output_type": "display_data"
    }
   ],
   "source": [
    "df_man = df[df['Пол'] == 'М']\n",
    "scope_days_man = max(df_man['Количество больничных дней']) - min(df_man['Количество больничных дней'])\n",
    "plt.figure(7)\n",
    "plt.hist(df_man['Количество больничных дней'], bins=scope_days_man)\n",
    "plt.xlabel('Количество больничных дней')\n",
    "plt.ylabel('Количество работников')\n",
    "plt.title('Гистограмма распределения больничных дней по мужчинам')"
   ]
  },
  {
   "cell_type": "code",
   "execution_count": 15,
   "metadata": {},
   "outputs": [
    {
     "data": {
      "text/plain": [
       "Text(0.5, 1.0, 'Гистограмма распределения больничных дней по женщинам')"
      ]
     },
     "execution_count": 15,
     "metadata": {},
     "output_type": "execute_result"
    },
    {
     "data": {
      "image/png": "[encoded data removed]",
      "text/plain": [
       "<Figure size 432x288 with 1 Axes>"
      ]
     },
     "metadata": {
      "needs_background": "light"
     },
     "output_type": "display_data"
    }
   ],
   "source": [
    "df_woman = df[df['Пол'] == 'Ж']\n",
    "scope_days_woman = max(df_woman['Количество больничных дней']) - min(df_woman['Количество больничных дней'])\n",
    "plt.figure(8)\n",
    "plt.hist(df_woman['Количество больничных дней'], bins=scope_days_woman)\n",
    "plt.xlabel('Количество больничных дней')\n",
    "plt.ylabel('Количество работников')\n",
    "plt.title('Гистограмма распределения больничных дней по женщинам')"
   ]
  },
  {
   "cell_type": "markdown",
   "metadata": {},
   "source": [
    "### Проверка гипотез"
   ]
  },
  {
   "cell_type": "markdown",
   "metadata": {},
   "source": [
    "#### Гипотеза 1. Мужчины пропускают в течение года более 2 рабочих дней по болезни значимо чаще женщин.\n",
    "\n",
    "Для проверки этой гипотезы необходимо оценить, как часто работники пропускают в течение года более 2 рабочих дней по болезни.\n",
    "\n",
    "Для этого добавим еще один столбец 'Больничный более 2 дней', в котором значения будут принимать:\n",
    "1 - если работник пропустил в течение года более 2 рабочих дней по болезни,\n",
    "0 - если работник пропустил в течение года 2 и менее рабочих дня по болезни."
   ]
  },
  {
   "cell_type": "code",
   "execution_count": 16,
   "metadata": {},
   "outputs": [
    {
     "name": "stdout",
     "output_type": "stream",
     "text": [
      "   Количество больничных дней  Возраст Пол  Больничный более 2 дней\n",
      "0                           5       39   Ж                      1.0\n",
      "1                           4       54   М                      1.0\n",
      "2                           4       26   М                      1.0\n",
      "3                           5       42   М                      1.0\n",
      "4                           4       29   М                      1.0\n"
     ]
    }
   ],
   "source": [
    "df.loc[df['Количество больничных дней'] > 2, 'Больничный более 2 дней'] = 1\n",
    "df.loc[df['Количество больничных дней'] <= 2, 'Больничный более 2 дней'] = 0\n",
    "\n",
    "print(df.head(5))"
   ]
  },
  {
   "cell_type": "markdown",
   "metadata": {},
   "source": [
    "#### Для подтверждения гипотезы необходимо дать оценку статистической значимости. Проверку значимости предлагается проводить с помощью критерия согласия хи квадрат (или критерий согласия Пирсона) для двух независимых выборок\n",
    "\n",
    "##### Принимаем две гипотезы:\n",
    "##### H0 (нулевая гипотеза) - между полом и частотой пропуска более 2 дней по болезни связи нет\n",
    "##### Ha (альтернативная гипотеза) - связь между полом и частотой существенна\n",
    "\n",
    "##### Если значение p <= alpha, то нулевая гипотеза отклоняется\n",
    "##### Если значение p > alpha, то нулевая гипотеза не может быть отклонена\n",
    "##### Порог alpha определим равным 0.05"
   ]
  },
  {
   "cell_type": "code",
   "execution_count": 17,
   "metadata": {},
   "outputs": [
    {
     "name": "stdout",
     "output_type": "stream",
     "text": [
      "Количество мужчин, которые пропустили 2 и менее дней по болезни: 55.0\n",
      "Количество мужчин, которые пропустили более 2 дней по болезни: 84.0\n",
      "Количество мужчин всего: 139\n",
      "\n",
      "Количество женщин, которые пропустили 2 и менее дней по болезни: 31.0\n",
      "Количество женщин, которые пропустили более 2 дней по болезни: 67.0\n",
      "Количество женщин всего: 98\n"
     ]
    }
   ],
   "source": [
    "sum_man = sum(df['Больничный более 2 дней'].loc[df['Пол'] == 'М'])\n",
    "print('Количество мужчин, которые пропустили 2 и менее дней по болезни: {}'.format(count_man - sum_man))\n",
    "print('Количество мужчин, которые пропустили более 2 дней по болезни: {}'.format(sum_man))\n",
    "print('Количество мужчин всего: {}'.format(count_man))\n",
    "print('')\n",
    "sum_woman = sum(df['Больничный более 2 дней'].loc[df['Пол'] == 'Ж'])\n",
    "print('Количество женщин, которые пропустили 2 и менее дней по болезни: {}'.format(count_woman - sum_woman))\n",
    "print('Количество женщин, которые пропустили более 2 дней по болезни: {}'.format(sum_woman))\n",
    "print('Количество женщин всего: {}'.format(count_woman))"
   ]
  },
  {
   "cell_type": "code",
   "execution_count": 18,
   "metadata": {},
   "outputs": [
    {
     "name": "stdout",
     "output_type": "stream",
     "text": [
      "P value: 0.27\n"
     ]
    }
   ],
   "source": [
    "man = [55, 84]\n",
    "woman = [31, 67]\n",
    "\n",
    "obs = np.array([man, woman])\n",
    "chi2, p, dof, expected = stats.chi2_contingency(obs)\n",
    "\n",
    "print('P value: {0:.2f}'.format(p))"
   ]
  },
  {
   "cell_type": "markdown",
   "metadata": {},
   "source": [
    "#### Так как значение p-value значительно больше порогового значения 0.05 (или 5%), то принимаем нулевую гипотезу."
   ]
  },
  {
   "cell_type": "markdown",
   "metadata": {},
   "source": [
    "#### Гипотеза 2. Работники старше 35 лет пропускают в течение года более 2 рабочих дней по болезни значимо чаще своих более молодых коллег."
   ]
  },
  {
   "cell_type": "markdown",
   "metadata": {},
   "source": [
    "#### Для подтверждения гипотезы необходимо дать оценку статистической значимости. Проверку значимости предлагается проводить с помощью критерия согласия хи квадрат (или критерий согласия Пирсона) для двух независимых выборок\n",
    "\n",
    "##### Принимаем две гипотезы:\n",
    "##### H0 (нулевая гипотеза) - между возрастом и частотой пропуска более 2 дней по болезни связи нет\n",
    "##### Ha (альтернативная гипотеза) - связь между возрастом и частотой существенна\n",
    "\n",
    "##### Если значение p <= alpha, то нулевая гипотеза отклоняется\n",
    "##### Если значение p > alpha, то нулевая гипотеза не может быть отклонена\n",
    "##### Порог alpha определим равным 0.05"
   ]
  },
  {
   "cell_type": "code",
   "execution_count": 19,
   "metadata": {},
   "outputs": [
    {
     "name": "stdout",
     "output_type": "stream",
     "text": [
      "Количество молодых работников, которые пропустили 2 и менее дней по болезни: 21.0\n",
      "Количество молодых работников, которые пропустили более 2 дней по болезни: 36.0\n",
      "Количество молодых работников: 57\n",
      "\n",
      "Количество старших работников, которые пропустили 2 и менее дней по болезни: 65.0\n",
      "Количество старших работников, которые пропустили более 2 дней по болезни: 115.0\n",
      "Количество старших работников: 180\n"
     ]
    }
   ],
   "source": [
    "count_young = len(df.loc[df['Возраст'] <= 35])\n",
    "sum_young = sum(df['Больничный более 2 дней'].loc[df['Возраст'] <= 35])\n",
    "print('Количество молодых работников, которые пропустили 2 и менее дней по болезни: {}'.\n",
    "      format(count_young - sum_young))\n",
    "print('Количество молодых работников, которые пропустили более 2 дней по болезни: {}'.format(sum_young))\n",
    "print('Количество молодых работников: {}'.format(count_young))\n",
    "print('')\n",
    "count_senior = len(df.loc[df['Возраст'] > 35])\n",
    "sum_senior = sum(df['Больничный более 2 дней'].loc[df['Возраст'] > 35])\n",
    "print('Количество старших работников, которые пропустили 2 и менее дней по болезни: {}'.\n",
    "      format(count_senior - sum_senior))\n",
    "print('Количество старших работников, которые пропустили более 2 дней по болезни: {}'.format(sum_senior))\n",
    "print('Количество старших работников: {}'.format(count_senior))"
   ]
  },
  {
   "cell_type": "code",
   "execution_count": 20,
   "metadata": {},
   "outputs": [
    {
     "name": "stdout",
     "output_type": "stream",
     "text": [
      "P value: 0.95\n"
     ]
    }
   ],
   "source": [
    "young = [21, 36]\n",
    "senior = [65, 115]\n",
    "\n",
    "obs = np.array([young, senior])\n",
    "chi2, p, dof, expected = stats.chi2_contingency(obs)\n",
    "\n",
    "print('P value: {0:.2f}'.format(p))"
   ]
  },
  {
   "cell_type": "markdown",
   "metadata": {},
   "source": [
    "#### Так как значение p-value значительно больше порогового значения 0.05 (или 5%), то принимаем нулевую гипотезу."
   ]
  }
 ],
 "metadata": {
  "kernelspec": {
   "display_name": "Python 3",
   "language": "python",
   "name": "python3"
  },
  "language_info": {
   "codemirror_mode": {
    "name": "ipython",
    "version": 3
   },
   "file_extension": ".py",
   "mimetype": "text/x-python",
   "name": "python",
   "nbconvert_exporter": "python",
   "pygments_lexer": "ipython3",
   "version": "3.7.1"
  }
 },
 "nbformat": 4,
 "nbformat_minor": 2
}
